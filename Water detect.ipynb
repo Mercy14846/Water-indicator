{
 "cells": [
  {
   "cell_type": "markdown",
   "metadata": {},
   "source": []
  }
 ],
 "metadata": {
  "kernelspec": {
   "display_name": "Python 3.10.7 64-bit",
   "language": "python",
   "name": "python3"
  },
  "language_info": {
   "name": "python",
   "version": "3.10.7"
  },
  "orig_nbformat": 4,
  "vscode": {
   "interpreter": {
    "hash": "104fefe649a624f2ec4a0347c42f826cdcf40536f09dcb72716ef0a0c0b147af"
   }
  }
 },
 "nbformat": 4,
 "nbformat_minor": 2
}
