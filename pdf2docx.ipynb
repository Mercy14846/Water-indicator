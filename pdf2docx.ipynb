{
 "cells": [
  {
   "cell_type": "code",
   "execution_count": 2,
   "metadata": {},
   "outputs": [
    {
     "name": "stdout",
     "output_type": "stream",
     "text": [
      "Note: you may need to restart the kernel to use updated packages.\n"
     ]
    },
    {
     "name": "stderr",
     "output_type": "stream",
     "text": [
      "  WARNING: The scripts fonttools.exe, pyftmerge.exe, pyftsubset.exe and ttx.exe are installed in 'c:\\Users\\173330\\AppData\\Local\\Programs\\Python\\Python310\\Scripts' which is not on PATH.\n",
      "  Consider adding this directory to PATH or, if you prefer to suppress this warning, use --no-warn-script-location.\n",
      "  WARNING: The script pdf2docx.exe is installed in 'c:\\Users\\173330\\AppData\\Local\\Programs\\Python\\Python310\\Scripts' which is not on PATH.\n",
      "  Consider adding this directory to PATH or, if you prefer to suppress this warning, use --no-warn-script-location.\n"
     ]
    },
    {
     "name": "stdout",
     "output_type": "stream",
     "text": [
      "Collecting pdf2docx\n",
      "  Using cached pdf2docx-0.5.6-py3-none-any.whl (148 kB)\n",
      "Collecting PyMuPDF>=1.19.0\n",
      "  Downloading PyMuPDF-1.20.2-cp310-cp310-win_amd64.whl (6.6 MB)\n",
      "     ---------------------------------------- 6.6/6.6 MB 2.1 MB/s eta 0:00:00\n",
      "Collecting fonttools>=4.24.0\n",
      "  Downloading fonttools-4.37.4-py3-none-any.whl (960 kB)\n",
      "     -------------------------------------- 960.8/960.8 kB 2.0 MB/s eta 0:00:00\n",
      "Requirement already satisfied: numpy>=1.17.2 in c:\\users\\173330\\appdata\\local\\programs\\python\\python310\\lib\\site-packages (from pdf2docx) (1.23.3)\n",
      "Collecting python-docx>=0.8.10\n",
      "  Using cached python-docx-0.8.11.tar.gz (5.6 MB)\n",
      "  Preparing metadata (setup.py): started\n",
      "  Preparing metadata (setup.py): finished with status 'done'\n",
      "Collecting opencv-python>=4.5\n",
      "  Using cached opencv_python-4.6.0.66-cp36-abi3-win_amd64.whl (35.6 MB)\n",
      "Collecting fire>=0.3.0\n",
      "  Using cached fire-0.4.0.tar.gz (87 kB)\n",
      "  Preparing metadata (setup.py): started\n",
      "  Preparing metadata (setup.py): finished with status 'done'\n",
      "Requirement already satisfied: six in c:\\users\\173330\\appdata\\roaming\\python\\python310\\site-packages (from fire>=0.3.0->pdf2docx) (1.16.0)\n",
      "Requirement already satisfied: termcolor in c:\\users\\173330\\appdata\\local\\programs\\python\\python310\\lib\\site-packages (from fire>=0.3.0->pdf2docx) (2.0.1)\n",
      "Collecting lxml>=2.3.2\n",
      "  Downloading lxml-4.9.1-cp310-cp310-win_amd64.whl (3.6 MB)\n",
      "     ---------------------------------------- 3.6/3.6 MB 1.6 MB/s eta 0:00:00\n",
      "Building wheels for collected packages: fire, python-docx\n",
      "  Building wheel for fire (setup.py): started\n",
      "  Building wheel for fire (setup.py): finished with status 'done'\n",
      "  Created wheel for fire: filename=fire-0.4.0-py2.py3-none-any.whl size=115926 sha256=806a23b5d3b172991823ef009bf3f0abb359a9e2cb5f79231e92416b7994a4ed\n",
      "  Stored in directory: c:\\users\\173330\\appdata\\local\\pip\\cache\\wheels\\26\\9a\\dd\\2818b1b023daf077ec3e625c47ae446aca587a5abe48e05212\n",
      "  Building wheel for python-docx (setup.py): started\n",
      "  Building wheel for python-docx (setup.py): finished with status 'done'\n",
      "  Created wheel for python-docx: filename=python_docx-0.8.11-py3-none-any.whl size=184489 sha256=b5869ebc96a7ae0bd3d7ac810bf9845ccc12f63ca05fd3881cbc91a8dfcb759b\n",
      "  Stored in directory: c:\\users\\173330\\appdata\\local\\pip\\cache\\wheels\\80\\27\\06\\837436d4c3bd989b957a91679966f207bfd71d358d63a8194d\n",
      "Successfully built fire python-docx\n",
      "Installing collected packages: PyMuPDF, opencv-python, lxml, fonttools, fire, python-docx, pdf2docx\n",
      "Successfully installed PyMuPDF-1.20.2 fire-0.4.0 fonttools-4.37.4 lxml-4.9.1 opencv-python-4.6.0.66 pdf2docx-0.5.6 python-docx-0.8.11\n"
     ]
    }
   ],
   "source": [
    "pip install pdf2docx"
   ]
  },
  {
   "cell_type": "code",
   "execution_count": 3,
   "metadata": {},
   "outputs": [],
   "source": [
    "import pdf2docx"
   ]
  },
  {
   "cell_type": "code",
   "execution_count": 14,
   "metadata": {},
   "outputs": [],
   "source": [
    "from pdf2docx import Converter\n",
    "\n",
    "\n",
    "\n",
    "pdf_file = \"C:/Users/173330/OneDrive/Documents/Nepa Bill.pdf\"\n",
    "docx_file = \"C:/Users/173330/OneDrive/Documents/Request for Support.docx\"\n",
    "\n"
   ]
  },
  {
   "cell_type": "code",
   "execution_count": 15,
   "metadata": {},
   "outputs": [
    {
     "name": "stderr",
     "output_type": "stream",
     "text": [
      "[INFO] Start to convert C:/Users/173330/OneDrive/Documents/Nepa Bill.pdf\n",
      "[INFO] \u001b[1;36m[1/4] Opening document...\u001b[0m\n",
      "[INFO] \u001b[1;36m[2/4] Analyzing document...\u001b[0m\n",
      "[INFO] \u001b[1;36m[3/4] Parsing pages...\u001b[0m\n",
      "[INFO] (1/1) Page 1\n",
      "[INFO] \u001b[1;36m[4/4] Creating pages...\u001b[0m\n",
      "[INFO] (1/1) Page 1\n",
      "[INFO] Terminated in 0.15s.\n"
     ]
    }
   ],
   "source": [
    "cv = Converter(pdf_file)\n",
    "cv.convert(docx_file, start=0, end=None)\n",
    "cv.close()"
   ]
  },
  {
   "cell_type": "code",
   "execution_count": null,
   "metadata": {},
   "outputs": [],
   "source": []
  }
 ],
 "metadata": {
  "kernelspec": {
   "display_name": "Python 3.10.7 64-bit",
   "language": "python",
   "name": "python3"
  },
  "language_info": {
   "codemirror_mode": {
    "name": "ipython",
    "version": 3
   },
   "file_extension": ".py",
   "mimetype": "text/x-python",
   "name": "python",
   "nbconvert_exporter": "python",
   "pygments_lexer": "ipython3",
   "version": "3.10.7"
  },
  "orig_nbformat": 4,
  "vscode": {
   "interpreter": {
    "hash": "104fefe649a624f2ec4a0347c42f826cdcf40536f09dcb72716ef0a0c0b147af"
   }
  }
 },
 "nbformat": 4,
 "nbformat_minor": 2
}
